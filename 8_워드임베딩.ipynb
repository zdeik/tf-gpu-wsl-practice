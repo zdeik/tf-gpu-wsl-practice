{
 "cells": [
  {
   "cell_type": "markdown",
   "id": "31683d1b",
   "metadata": {},
   "source": [
    "# 단어의 임베딩\n",
    "- 빈도수 계산: 빈도기반 -TF 상대빈도\n",
    "- TDM: "
   ]
  },
  {
   "cell_type": "code",
   "execution_count": 2,
   "id": "1e82d59d",
   "metadata": {},
   "outputs": [],
   "source": [
    "text = \"John likes to watch movies. Mary likes movies too.\\\n",
    "    Mary also likes to watch football games.\""
   ]
  },
  {
   "cell_type": "code",
   "execution_count": 3,
   "id": "b04bd957",
   "metadata": {},
   "outputs": [
    {
     "data": {
      "text/plain": [
       "['John',\n",
       " 'likes',\n",
       " 'to',\n",
       " 'watch',\n",
       " 'movies',\n",
       " 'Mary',\n",
       " 'likes',\n",
       " 'movies',\n",
       " 'too',\n",
       " 'Mary',\n",
       " 'also',\n",
       " 'likes',\n",
       " 'to',\n",
       " 'watch',\n",
       " 'football',\n",
       " 'games']"
      ]
     },
     "execution_count": 3,
     "metadata": {},
     "output_type": "execute_result"
    }
   ],
   "source": [
    "words = text.replace('.','').split()\n",
    "words"
   ]
  },
  {
   "cell_type": "code",
   "execution_count": 4,
   "id": "e45acf2e",
   "metadata": {},
   "outputs": [
    {
     "data": {
      "text/plain": [
       "(array(['John', 'Mary', 'also', 'football', 'games', 'likes', 'movies',\n",
       "        'to', 'too', 'watch'], dtype='<U8'),\n",
       " array([1, 2, 1, 1, 1, 3, 2, 2, 1, 2]))"
      ]
     },
     "execution_count": 4,
     "metadata": {},
     "output_type": "execute_result"
    }
   ],
   "source": [
    "import numpy as np\n",
    "word_count = np.unique(words, return_counts=True)\n",
    "word_count"
   ]
  },
  {
   "cell_type": "code",
   "execution_count": 5,
   "id": "83d179b7",
   "metadata": {},
   "outputs": [
    {
     "data": {
      "text/plain": [
       "{'John': 1,\n",
       " 'Mary': 2,\n",
       " 'also': 1,\n",
       " 'football': 1,\n",
       " 'games': 1,\n",
       " 'likes': 3,\n",
       " 'movies': 2,\n",
       " 'to': 2,\n",
       " 'too': 1,\n",
       " 'watch': 2}"
      ]
     },
     "execution_count": 5,
     "metadata": {},
     "output_type": "execute_result"
    }
   ],
   "source": [
    "# 단어별 빈도수 딕셔너리 생성\n",
    "word_to_cnt = {}\n",
    "for word, cnt in zip (*word_count):\n",
    "    word_to_cnt[word] = cnt\n",
    "word_to_cnt"
   ]
  },
  {
   "cell_type": "code",
   "execution_count": 6,
   "id": "bc31774a",
   "metadata": {},
   "outputs": [
    {
     "data": {
      "text/plain": [
       "2"
      ]
     },
     "execution_count": 6,
     "metadata": {},
     "output_type": "execute_result"
    }
   ],
   "source": [
    "word_to_cnt['movies']"
   ]
  },
  {
   "cell_type": "code",
   "execution_count": 7,
   "id": "ff594159",
   "metadata": {},
   "outputs": [],
   "source": [
    "corpus = [\"John likes to watch movies. Mary likes movies too.\", \"Mary also likes to watch football games.\"]"
   ]
  },
  {
   "cell_type": "markdown",
   "id": "5eb714c6",
   "metadata": {},
   "source": [
    "#  TDM"
   ]
  },
  {
   "cell_type": "code",
   "execution_count": 8,
   "id": "1443a933",
   "metadata": {},
   "outputs": [
    {
     "name": "stdout",
     "output_type": "stream",
     "text": [
      "[[0 0 0 1 2 1 2 1 1 1]\n",
      " [1 1 1 0 1 1 0 1 0 1]]\n",
      "{'john': 3, 'likes': 4, 'to': 7, 'watch': 9, 'movies': 6, 'mary': 5, 'too': 8, 'also': 0, 'football': 1, 'games': 2}\n"
     ]
    }
   ],
   "source": [
    "# 문서별 단어의 빈도수를 계산해서 행렬로 만듬: TDM문서(싸이킷런 사용)\n",
    "from sklearn.feature_extraction.text import CountVectorizer\n",
    "\n",
    "vector =CountVectorizer()\n",
    "tdm_array = vector.fit_transform(corpus).toarray()\n",
    "tf_dic = vector.vocabulary_\n",
    "print(tdm_array)\n",
    "print(tf_dic)\n"
   ]
  },
  {
   "cell_type": "code",
   "execution_count": 9,
   "id": "7d0c74f1",
   "metadata": {},
   "outputs": [
    {
     "name": "stdout",
     "output_type": "stream",
     "text": [
      "   also  football  games  john  likes  mary  movies  to  too  watch\n",
      "0     0         0      0     1      2     1       2   1    1      1\n",
      "1     1         1      1     0      1     1       0   1    0      1\n"
     ]
    }
   ],
   "source": [
    "import pandas as pd\n",
    "tf_dic_sorted = dict(sorted(tf_dic.items(),\n",
    "                            key=lambda item: item[1]))\n",
    "tdm = pd.DataFrame(tdm_array, columns=tf_dic_sorted.keys())\n",
    "print(tdm)"
   ]
  },
  {
   "cell_type": "markdown",
   "id": "45ef862c",
   "metadata": {},
   "source": [
    "# TF-IDF"
   ]
  },
  {
   "cell_type": "code",
   "execution_count": 10,
   "id": "1bbe5915",
   "metadata": {},
   "outputs": [
    {
     "name": "stdout",
     "output_type": "stream",
     "text": [
      "       also  football     games      john     likes      mary    movies  \\\n",
      "0  0.000000  0.000000  0.000000  0.323699  0.460629  0.230315  0.647398   \n",
      "1  0.446101  0.446101  0.446101  0.000000  0.317404  0.317404  0.000000   \n",
      "\n",
      "         to       too     watch  \n",
      "0  0.230315  0.323699  0.230315  \n",
      "1  0.317404  0.000000  0.317404  \n"
     ]
    }
   ],
   "source": [
    "from sklearn.feature_extraction.text import TfidfVectorizer\n",
    "tfidf_vec =TfidfVectorizer()\n",
    "tfidf_array = tfidf_vec.fit_transform(corpus).toarray()\n",
    "tfidf_dic = tfidf_vec.vocabulary_\n",
    "tfidf_dic_sorted = dict(sorted(tfidf_dic.items(),\n",
    "                               key=lambda item:item[1]))\n",
    "tfidf_dtm = pd.DataFrame(tfidf_array, columns=tfidf_dic_sorted.keys())\n",
    "\n",
    "print(tfidf_dtm)"
   ]
  },
  {
   "cell_type": "code",
   "execution_count": 12,
   "id": "fdf1a5f5",
   "metadata": {},
   "outputs": [],
   "source": [
    "from gensim.models import Word2Vec\n",
    "corpus = [\n",
    "    \"John likes to watch movies. Mary likes movies too.\",\n",
    "    \"Mary also likes to watch football games.\"\n",
    "    ]\n",
    "word_list = []\n"
   ]
  },
  {
   "cell_type": "code",
   "execution_count": 13,
   "id": "f91bf914",
   "metadata": {},
   "outputs": [
    {
     "data": {
      "text/plain": [
       "[['John', 'likes', 'to', 'watch', 'movies', 'Mary', 'likes', 'movies', 'too'],\n",
       " ['Mary', 'also', 'likes', 'to', 'watch', 'football', 'games']]"
      ]
     },
     "execution_count": 13,
     "metadata": {},
     "output_type": "execute_result"
    }
   ],
   "source": [
    "for word in corpus:\n",
    "    word_list.append(word.replace('.','').split())\n",
    "word_list"
   ]
  },
  {
   "cell_type": "code",
   "execution_count": null,
   "id": "7d2b6fd9",
   "metadata": {},
   "outputs": [
    {
     "data": {
      "text/plain": [
       "[('John', 0.17164471745491028),\n",
       " ('also', 0.06594578176736832),\n",
       " ('Mary', 0.008838453330099583),\n",
       " ('watch', -0.06765829026699066),\n",
       " ('games', -0.08544928580522537),\n",
       " ('football', -0.08948154747486115),\n",
       " ('too', -0.11860241740942001),\n",
       " ('to', -0.13643866777420044)]"
      ]
     },
     "execution_count": 17,
     "metadata": {},
     "output_type": "execute_result"
    }
   ],
   "source": [
    "# sg=0: CBOW (Continuous Bag-of-Words) 방식\n",
    "# 주변 단어로 중심 단어를 예측\n",
    "model = Word2Vec(word_list, sg=0, vector_size=100, window=3, min_count=1)\n",
    "model.wv.most_similar('likes', 'movies')"
   ]
  },
  {
   "cell_type": "code",
   "execution_count": null,
   "id": "e98328b8",
   "metadata": {},
   "outputs": [
    {
     "data": {
      "text/plain": [
       "[('John', 0.17164471745491028),\n",
       " ('also', 0.06594578176736832),\n",
       " ('Mary', 0.008853347972035408),\n",
       " ('watch', -0.06765829026699066),\n",
       " ('games', -0.08544928580522537),\n",
       " ('football', -0.08948154747486115),\n",
       " ('too', -0.11860241740942001),\n",
       " ('to', -0.13643862307071686)]"
      ]
     },
     "execution_count": 16,
     "metadata": {},
     "output_type": "execute_result"
    }
   ],
   "source": [
    "# sg=1: Skip-gram 방식\n",
    "# 중심 단어로 주변 단어를 예측\n",
    "model = Word2Vec(word_list, sg=1, vector_size=100, window=3, min_count=1)\n",
    "model.wv.most_similar('likes', 'movies')"
   ]
  },
  {
   "cell_type": "code",
   "execution_count": null,
   "id": "17ad3dfc",
   "metadata": {},
   "outputs": [],
   "source": []
  },
  {
   "cell_type": "code",
   "execution_count": null,
   "id": "4ed75f97",
   "metadata": {},
   "outputs": [],
   "source": []
  }
 ],
 "metadata": {
  "kernelspec": {
   "display_name": "tf_cuda_env",
   "language": "python",
   "name": "python3"
  },
  "language_info": {
   "codemirror_mode": {
    "name": "ipython",
    "version": 3
   },
   "file_extension": ".py",
   "mimetype": "text/x-python",
   "name": "python",
   "nbconvert_exporter": "python",
   "pygments_lexer": "ipython3",
   "version": "3.10.18"
  }
 },
 "nbformat": 4,
 "nbformat_minor": 5
}
