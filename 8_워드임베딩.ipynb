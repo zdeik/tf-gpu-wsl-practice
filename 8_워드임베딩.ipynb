{
 "cells": [
  {
   "cell_type": "code",
   "execution_count": 1,
   "id": "1e82d59d",
   "metadata": {},
   "outputs": [],
   "source": [
    "text = \"John likes to watch movies. Mary likes movies too.\\\n",
    "    Mary also likes to watch football games.\""
   ]
  },
  {
   "cell_type": "code",
   "execution_count": 2,
   "id": "b04bd957",
   "metadata": {},
   "outputs": [
    {
     "data": {
      "text/plain": [
       "['John',\n",
       " 'likes',\n",
       " 'to',\n",
       " 'watch',\n",
       " 'movies',\n",
       " 'Mary',\n",
       " 'likes',\n",
       " 'movies',\n",
       " 'too',\n",
       " 'Mary',\n",
       " 'also',\n",
       " 'likes',\n",
       " 'to',\n",
       " 'watch',\n",
       " 'football',\n",
       " 'games']"
      ]
     },
     "execution_count": 2,
     "metadata": {},
     "output_type": "execute_result"
    }
   ],
   "source": [
    "words = text.replace('.','').split()\n",
    "words"
   ]
  },
  {
   "cell_type": "code",
   "execution_count": null,
   "id": "e45acf2e",
   "metadata": {},
   "outputs": [
    {
     "data": {
      "text/plain": [
       "(array(['John', 'Mary', 'also', 'football', 'games', 'likes', 'movies',\n",
       "        'to', 'too', 'watch'], dtype='<U8'),\n",
       " array([1, 2, 1, 1, 1, 3, 2, 2, 1, 2]))"
      ]
     },
     "execution_count": 4,
     "metadata": {},
     "output_type": "execute_result"
    }
   ],
   "source": [
    "import numpy as np\n",
    "word_count = np.unique(words, return_counts=True)\n",
    "word_count"
   ]
  },
  {
   "cell_type": "code",
   "execution_count": null,
   "id": "83d179b7",
   "metadata": {},
   "outputs": [
    {
     "data": {
      "text/plain": [
       "{np.str_('John'): np.int64(1),\n",
       " np.str_('Mary'): np.int64(2),\n",
       " np.str_('also'): np.int64(1),\n",
       " np.str_('football'): np.int64(1),\n",
       " np.str_('games'): np.int64(1),\n",
       " np.str_('likes'): np.int64(3),\n",
       " np.str_('movies'): np.int64(2),\n",
       " np.str_('to'): np.int64(2),\n",
       " np.str_('too'): np.int64(1),\n",
       " np.str_('watch'): np.int64(2)}"
      ]
     },
     "execution_count": 5,
     "metadata": {},
     "output_type": "execute_result"
    }
   ],
   "source": [
    "# 단어별 빈도수 딕셔너리 생성\n",
    "word_to_cnt = {}\n",
    "for word, cnt in zip (*word_count):\n",
    "    word_to_cnt[word] = cnt\n",
    "word_to_cnt"
   ]
  },
  {
   "cell_type": "code",
   "execution_count": 6,
   "id": "bc31774a",
   "metadata": {},
   "outputs": [
    {
     "data": {
      "text/plain": [
       "np.int64(2)"
      ]
     },
     "execution_count": 6,
     "metadata": {},
     "output_type": "execute_result"
    }
   ],
   "source": [
    "word_to_cnt['movies']"
   ]
  },
  {
   "cell_type": "code",
   "execution_count": 7,
   "id": "1443a933",
   "metadata": {},
   "outputs": [],
   "source": [
    "# 문서별 단어의 빈도수를 계산해서 행렬로 만듬: TDM문서(싸이킷런 사용)\n",
    "from sklearn.feature_extraction.text import CountVectorizer\n"
   ]
  },
  {
   "cell_type": "code",
   "execution_count": null,
   "id": "a00e338d",
   "metadata": {},
   "outputs": [],
   "source": []
  },
  {
   "cell_type": "code",
   "execution_count": null,
   "id": "7d0c74f1",
   "metadata": {},
   "outputs": [],
   "source": []
  },
  {
   "cell_type": "code",
   "execution_count": null,
   "id": "f91bf914",
   "metadata": {},
   "outputs": [],
   "source": []
  },
  {
   "cell_type": "code",
   "execution_count": null,
   "id": "e98328b8",
   "metadata": {},
   "outputs": [],
   "source": []
  },
  {
   "cell_type": "code",
   "execution_count": null,
   "id": "17ad3dfc",
   "metadata": {},
   "outputs": [],
   "source": []
  },
  {
   "cell_type": "code",
   "execution_count": null,
   "id": "4ed75f97",
   "metadata": {},
   "outputs": [],
   "source": []
  }
 ],
 "metadata": {
  "kernelspec": {
   "display_name": "tf_cuda_env",
   "language": "python",
   "name": "python3"
  },
  "language_info": {
   "codemirror_mode": {
    "name": "ipython",
    "version": 3
   },
   "file_extension": ".py",
   "mimetype": "text/x-python",
   "name": "python",
   "nbconvert_exporter": "python",
   "pygments_lexer": "ipython3",
   "version": "3.10.18"
  }
 },
 "nbformat": 4,
 "nbformat_minor": 5
}
