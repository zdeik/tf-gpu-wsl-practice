{
 "cells": [
  {
   "cell_type": "code",
   "execution_count": 1,
   "id": "8e55eeb7",
   "metadata": {},
   "outputs": [],
   "source": [
    "# 가상환경 torch_cuda_yolo_env\n",
    "# 추론 객체감지"
   ]
  },
  {
   "cell_type": "code",
   "execution_count": 2,
   "id": "8b8dd953",
   "metadata": {},
   "outputs": [
    {
     "name": "stdout",
     "output_type": "stream",
     "text": [
      "torch: 2.6.0+cu124 cuda: 12.4 is_available: True\n"
     ]
    }
   ],
   "source": [
    "import torch\n",
    "print(\"torch:\", torch.__version__, \n",
    "      \"cuda:\", torch.version.cuda, \n",
    "      \"is_available:\", \n",
    "      torch.cuda.is_available())"
   ]
  },
  {
   "cell_type": "code",
   "execution_count": 3,
   "id": "6241e91f",
   "metadata": {},
   "outputs": [
    {
     "data": {
      "text/plain": [
       "'Cgny5wZRVVC5IOv7VTnk'"
      ]
     },
     "execution_count": 3,
     "metadata": {},
     "output_type": "execute_result"
    }
   ],
   "source": [
    "import os\n",
    "from dotenv import load_dotenv\n",
    "loaded = load_dotenv()\n",
    "os.getenv('ROBOFLOW_API_KEY')"
   ]
  },
  {
   "cell_type": "code",
   "execution_count": 4,
   "id": "853091d9",
   "metadata": {},
   "outputs": [
    {
     "data": {
      "text/plain": [
       "<inference_sdk.http.client.InferenceHTTPClient at 0x209ef951f90>"
      ]
     },
     "execution_count": 4,
     "metadata": {},
     "output_type": "execute_result"
    }
   ],
   "source": [
    "from inference_sdk import InferenceHTTPClient\n",
    "CLIENT = InferenceHTTPClient(\n",
    "  api_url= 'https://detect.roboflow.com',\n",
    "  api_key= os.getenv('ROBOFLOW_API_KEY')\n",
    ")\n",
    "CLIENT"
   ]
  },
  {
   "cell_type": "code",
   "execution_count": 5,
   "id": "6f94d6c6",
   "metadata": {},
   "outputs": [
    {
     "data": {
      "text/plain": [
       "{'inference_id': '67c3284c-5750-4060-bafd-714ccc041d8d',\n",
       " 'time': 0.039441793999685615,\n",
       " 'image': {'width': 512, 'height': 341},\n",
       " 'predictions': [{'x': 404.0,\n",
       "   'y': 233.5,\n",
       "   'width': 132.0,\n",
       "   'height': 151.0,\n",
       "   'confidence': 0.9074662923812866,\n",
       "   'class': 'Rock',\n",
       "   'class_id': 1,\n",
       "   'detection_id': '9ad66075-c2e6-4b2c-b0bd-e9bcb68a8410'},\n",
       "  {'x': 112.5,\n",
       "   'y': 223.0,\n",
       "   'width': 175.0,\n",
       "   'height': 210.0,\n",
       "   'confidence': 0.8111773729324341,\n",
       "   'class': 'Paper',\n",
       "   'class_id': 0,\n",
       "   'detection_id': '0af9ac08-6e8e-49ff-af74-f85f65293e7d'}]}"
      ]
     },
     "execution_count": 5,
     "metadata": {},
     "output_type": "execute_result"
    }
   ],
   "source": [
    "result = CLIENT.infer('sample.jpg', model_id='rock-paper-scissors-sxsw/14')\n",
    "result"
   ]
  },
  {
   "cell_type": "code",
   "execution_count": 6,
   "id": "5d465ef9",
   "metadata": {},
   "outputs": [
    {
     "name": "stdout",
     "output_type": "stream",
     "text": [
      "클래스: Rock, 신뢰도: 0.91, 바운딩 박스: x=404.0, y=233.5, 너비=132.0, 높이=151.0\n",
      "클래스: Paper, 신뢰도: 0.81, 바운딩 박스: x=112.5, y=223.0, 너비=175.0, 높이=210.0\n"
     ]
    }
   ],
   "source": [
    "import cv2\n",
    "img = cv2.imread('sample.jpg')\n",
    "for pred in result['predictions']:\n",
    "    x = pred['x']\n",
    "    y = pred['y']\n",
    "    width = pred['width']\n",
    "    height = pred['height']\n",
    "    conf = pred['confidence']\n",
    "    obj_class = pred['class']\n",
    "    \n",
    "    x1, y1 = int(x-width/2), int(y-height/2)\n",
    "    x2, y2 = int(x+width/2), int(y+height/2)\n",
    "    cv2.rectangle(img, (x1,y1),(x2,y2), (0,0,255), 2)\n",
    "    cv2.putText(img, f'{obj_class} {conf:.4f}',(x1,y1), cv2.FONT_HERSHEY_PLAIN, 2, (0,0,255))\n",
    "    \n",
    "    print(f\"클래스: {obj_class}, 신뢰도: {conf:.2f}, 바운딩 박스: x={x}, y={y}, 너비={width}, 높이={height}\")\n",
    "\n",
    "    \n",
    "cv2.imshow('image', img)\n",
    "cv2.waitKey()\n",
    "cv2.destroyAllWindows()"
   ]
  },
  {
   "cell_type": "code",
   "execution_count": 3,
   "id": "717945ae",
   "metadata": {},
   "outputs": [
    {
     "data": {
      "text/plain": [
       "array([[[255, 255, 255],\n",
       "        [255, 255, 255],\n",
       "        [255, 255, 255],\n",
       "        ...,\n",
       "        [255, 255, 255],\n",
       "        [255, 255, 255],\n",
       "        [255, 255, 255]],\n",
       "\n",
       "       [[255, 255, 255],\n",
       "        [255, 255, 255],\n",
       "        [255, 255, 255],\n",
       "        ...,\n",
       "        [255, 255, 255],\n",
       "        [255, 255, 255],\n",
       "        [255, 255, 255]],\n",
       "\n",
       "       [[255, 255, 255],\n",
       "        [255, 255, 255],\n",
       "        [255, 255, 255],\n",
       "        ...,\n",
       "        [255, 255, 255],\n",
       "        [255, 255, 255],\n",
       "        [255, 255, 255]],\n",
       "\n",
       "       ...,\n",
       "\n",
       "       [[150, 159, 202],\n",
       "        [152, 161, 204],\n",
       "        [151, 160, 203],\n",
       "        ...,\n",
       "        [138, 155, 198],\n",
       "        [139, 156, 199],\n",
       "        [139, 156, 199]],\n",
       "\n",
       "       [[150, 159, 202],\n",
       "        [152, 161, 204],\n",
       "        [151, 160, 203],\n",
       "        ...,\n",
       "        [138, 155, 198],\n",
       "        [138, 155, 198],\n",
       "        [138, 155, 198]],\n",
       "\n",
       "       [[150, 159, 202],\n",
       "        [152, 161, 204],\n",
       "        [151, 160, 203],\n",
       "        ...,\n",
       "        [137, 154, 197],\n",
       "        [138, 155, 198],\n",
       "        [138, 155, 198]]], dtype=uint8)"
      ]
     },
     "execution_count": 3,
     "metadata": {},
     "output_type": "execute_result"
    }
   ],
   "source": [
    "import cv2\n",
    "filename = 'sample.jpg'\n",
    "cv2.imread(filename)"
   ]
  },
  {
   "cell_type": "code",
   "execution_count": 10,
   "id": "498395b7",
   "metadata": {},
   "outputs": [
    {
     "data": {
      "text/plain": [
       "{'inference_id': 'cf4e4bbd-7227-4166-8a7b-53a55848c022',\n",
       " 'time': 0.03154577700001937,\n",
       " 'image': {'width': 416, 'height': 416},\n",
       " 'predictions': []}"
      ]
     },
     "execution_count": 10,
     "metadata": {},
     "output_type": "execute_result"
    }
   ],
   "source": [
    "result = CLIENT.infer('mnist/000001.jpg', model_id='numbers-ldmqq/3')\n",
    "result"
   ]
  },
  {
   "cell_type": "markdown",
   "id": "3bc0b69e",
   "metadata": {},
   "source": [
    "# model 가져오기"
   ]
  },
  {
   "cell_type": "code",
   "execution_count": 1,
   "id": "3441d933",
   "metadata": {},
   "outputs": [
    {
     "name": "stdout",
     "output_type": "stream",
     "text": [
      "loading Roboflow workspace...\n",
      "loading Roboflow project...\n"
     ]
    },
    {
     "data": {
      "text/plain": [
       "<roboflow.models.object_detection.ObjectDetectionModel at 0x1bea0f00f10>"
      ]
     },
     "execution_count": 1,
     "metadata": {},
     "output_type": "execute_result"
    }
   ],
   "source": [
    "from roboflow import Roboflow\n",
    "import cv2\n",
    "rf = Roboflow(api_key=\"HKU3a7NuEDStiIgEbg9W\")\n",
    "project = rf.workspace().project('numbers-yt0h2')\n",
    "numbers_model = project.version(2).model\n",
    "numbers_model"
   ]
  },
  {
   "cell_type": "code",
   "execution_count": 4,
   "id": "cfcaa703",
   "metadata": {},
   "outputs": [
    {
     "name": "stdout",
     "output_type": "stream",
     "text": [
      "{'predictions': [], 'image': {'width': '512', 'height': '341'}}\n"
     ]
    }
   ],
   "source": [
    "filename = 'sample.jpg'\n",
    "result = numbers_model.predict(filename, confidence=40, overlap=30)\n",
    "result_json = result.json()\n",
    "print(result_json)\n",
    "for pred in result_json[\"predictions\"]:\n",
    "    x = pred['x'] # 사각형의 중심위치 x\n",
    "    y = pred['y'] # 사각형의 중심위치 y\n",
    "    width = pred['width']\n",
    "    height = pred['height']\n",
    "    conf = pred['confidence']\n",
    "    cls = pred['class']\n",
    "    print(x, y, width, height, f'{cls} {conf:.4f}')"
   ]
  },
  {
   "cell_type": "markdown",
   "id": "68dff7f3",
   "metadata": {},
   "source": []
  },
  {
   "cell_type": "code",
   "execution_count": null,
   "id": "da9801f2",
   "metadata": {},
   "outputs": [],
   "source": []
  },
  {
   "cell_type": "code",
   "execution_count": null,
   "id": "245c3a93",
   "metadata": {},
   "outputs": [],
   "source": []
  },
  {
   "cell_type": "code",
   "execution_count": null,
   "id": "c1360496",
   "metadata": {},
   "outputs": [],
   "source": []
  },
  {
   "cell_type": "code",
   "execution_count": null,
   "id": "61361278",
   "metadata": {},
   "outputs": [],
   "source": []
  }
 ],
 "metadata": {
  "kernelspec": {
   "display_name": "torch_cuda_yolo_env",
   "language": "python",
   "name": "python3"
  },
  "language_info": {
   "codemirror_mode": {
    "name": "ipython",
    "version": 3
   },
   "file_extension": ".py",
   "mimetype": "text/x-python",
   "name": "python",
   "nbconvert_exporter": "python",
   "pygments_lexer": "ipython3",
   "version": "3.10.18"
  }
 },
 "nbformat": 4,
 "nbformat_minor": 5
}
