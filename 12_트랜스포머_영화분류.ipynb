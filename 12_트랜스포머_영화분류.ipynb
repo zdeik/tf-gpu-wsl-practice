{
 "cells": [
  {
   "cell_type": "markdown",
   "id": "32abef23",
   "metadata": {},
   "source": [
    "IMDB 영화평데이터 > 감성분류를 위한 트랜스포머 아키텍처 모델 구축\n",
    "\n",
    "1. 정수토큰 시퀀스(길이80)입력\n",
    "2. 토큰 임베딩 + 위치임베딩\n",
    "3. 멀티헤드어텐션\n",
    "4. concate + 정규화 \n",
    "5. FFN\n",
    "6. concate + 정규화 \n",
    "7. 분류기"
   ]
  },
  {
   "cell_type": "code",
   "execution_count": null,
   "id": "ffaad07a",
   "metadata": {},
   "outputs": [],
   "source": [
    "# 정수토큰 시퀀스(길이80)입력"
   ]
  },
  {
   "cell_type": "code",
   "execution_count": 1,
   "id": "77c4ebec",
   "metadata": {},
   "outputs": [
    {
     "name": "stderr",
     "output_type": "stream",
     "text": [
      "2025-09-05 11:48:43.637108: I tensorflow/core/platform/cpu_feature_guard.cc:210] This TensorFlow binary is optimized to use available CPU instructions in performance-critical operations.\n",
      "To enable the following instructions: AVX2 FMA, in other operations, rebuild TensorFlow with the appropriate compiler flags.\n"
     ]
    }
   ],
   "source": [
    "import tensorflow as tf\n",
    "from tensorflow.keras import Model, layers"
   ]
  },
  {
   "cell_type": "code",
   "execution_count": 2,
   "id": "1c9d73b3",
   "metadata": {},
   "outputs": [
    {
     "name": "stderr",
     "output_type": "stream",
     "text": [
      "WARNING: All log messages before absl::InitializeLog() is called are written to STDERR\n",
      "I0000 00:00:1757040690.028065   20168 gpu_device.cc:2020] Created device /job:localhost/replica:0/task:0/device:GPU:0 with 5563 MB memory:  -> device: 0, name: NVIDIA GeForce RTX 4060 Laptop GPU, pci bus id: 0000:01:00.0, compute capability: 8.9\n"
     ]
    }
   ],
   "source": [
    "# 토큰 임베딩\n",
    "inputs = layers.Input(shape = (80,))\n",
    "input_embedding = layers.Embedding(input_dim=1000, output_dim=32)(inputs)"
   ]
  },
  {
   "cell_type": "code",
   "execution_count": 3,
   "id": "09637a27",
   "metadata": {},
   "outputs": [],
   "source": [
    "# 위치 임베딩\n",
    "positions = tf.range(start=0, limit=80)\n",
    "pos_embedding = layers.Embedding(input_dim=80, output_dim=32)(positions)\n",
    "pos_enc_output = pos_embedding + input_embedding"
   ]
  },
  {
   "cell_type": "code",
   "execution_count": null,
   "id": "45de9286",
   "metadata": {},
   "outputs": [],
   "source": [
    "# 3. 멀티헤드어텐션 3헤드"
   ]
  },
  {
   "cell_type": "code",
   "execution_count": 4,
   "id": "c3fb1c97",
   "metadata": {},
   "outputs": [],
   "source": [
    "attention_ouput = layers.MultiHeadAttention(num_heads=3, key_dim=32)(pos_enc_output, pos_enc_output) # K,V\n"
   ]
  },
  {
   "cell_type": "code",
   "execution_count": null,
   "id": "2f551db5",
   "metadata": {},
   "outputs": [],
   "source": [
    "# 4. concate + 정규화"
   ]
  },
  {
   "cell_type": "code",
   "execution_count": 6,
   "id": "7e1d62d2",
   "metadata": {},
   "outputs": [],
   "source": [
    "x = layers.add([pos_enc_output, attention_ouput])\n",
    "x = layers.BatchNormalization()(x)"
   ]
  },
  {
   "cell_type": "code",
   "execution_count": null,
   "id": "d70635f8",
   "metadata": {},
   "outputs": [],
   "source": []
  },
  {
   "cell_type": "code",
   "execution_count": null,
   "id": "5b347f58",
   "metadata": {},
   "outputs": [],
   "source": [
    "# 5. FFN"
   ]
  },
  {
   "cell_type": "code",
   "execution_count": null,
   "id": "89fdc677",
   "metadata": {},
   "outputs": [],
   "source": []
  },
  {
   "cell_type": "code",
   "execution_count": null,
   "id": "ec3eb44b",
   "metadata": {},
   "outputs": [],
   "source": []
  },
  {
   "cell_type": "code",
   "execution_count": null,
   "id": "2e5a5a04",
   "metadata": {},
   "outputs": [],
   "source": []
  },
  {
   "cell_type": "code",
   "execution_count": null,
   "id": "983caf79",
   "metadata": {},
   "outputs": [],
   "source": []
  },
  {
   "cell_type": "code",
   "execution_count": null,
   "id": "564ce766",
   "metadata": {},
   "outputs": [],
   "source": []
  },
  {
   "cell_type": "code",
   "execution_count": null,
   "id": "3f8bfba8",
   "metadata": {},
   "outputs": [],
   "source": []
  }
 ],
 "metadata": {
  "kernelspec": {
   "display_name": "tf_cuda_env",
   "language": "python",
   "name": "python3"
  },
  "language_info": {
   "codemirror_mode": {
    "name": "ipython",
    "version": 3
   },
   "file_extension": ".py",
   "mimetype": "text/x-python",
   "name": "python",
   "nbconvert_exporter": "python",
   "pygments_lexer": "ipython3",
   "version": "3.10.18"
  }
 },
 "nbformat": 4,
 "nbformat_minor": 5
}
