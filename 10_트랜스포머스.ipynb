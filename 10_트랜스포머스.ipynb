{
 "cells": [
  {
   "cell_type": "code",
   "execution_count": 1,
   "id": "63f40e6b",
   "metadata": {},
   "outputs": [
    {
     "name": "stdout",
     "output_type": "stream",
     "text": [
      "torch: 2.6.0+cu124 cuda: 12.4 is_available: True\n"
     ]
    }
   ],
   "source": [
    "import torch\n",
    "print(\"torch:\", torch.__version__, \n",
    "      \"cuda:\", torch.version.cuda, \n",
    "      \"is_available:\", \n",
    "      torch.cuda.is_available())"
   ]
  },
  {
   "cell_type": "code",
   "execution_count": 2,
   "id": "418f4070",
   "metadata": {},
   "outputs": [
    {
     "name": "stderr",
     "output_type": "stream",
     "text": [
      "c:\\Users\\Admin\\miniconda3\\envs\\torch_cuda_transformer_env\\lib\\site-packages\\tqdm\\auto.py:21: TqdmWarning: IProgress not found. Please update jupyter and ipywidgets. See https://ipywidgets.readthedocs.io/en/stable/user_install.html\n",
      "  from .autonotebook import tqdm as notebook_tqdm\n"
     ]
    },
    {
     "data": {
      "text/plain": [
       "'4.56.0'"
      ]
     },
     "execution_count": 2,
     "metadata": {},
     "output_type": "execute_result"
    }
   ],
   "source": [
    "import transformers\n",
    "transformers.__version__"
   ]
  },
  {
   "cell_type": "code",
   "execution_count": 15,
   "id": "7495846d",
   "metadata": {},
   "outputs": [],
   "source": [
    "# 예시 영화 평\n",
    "reviews = [\n",
    "    \"This movie was absolutely fantastic! The acting, the plot, everything was perfect.\",\n",
    "    \"I did not enjoy this movie at all. The story was predictable and the acting was terrible.\",\n",
    "    \"A solid performance by the lead actor, but the plot could have been better.\",\n",
    "    \"What a waste of time! I can't believe I sat through the whole movie.\"\n",
    "]"
   ]
  },
  {
   "cell_type": "code",
   "execution_count": 16,
   "id": "4b71e1a5",
   "metadata": {},
   "outputs": [
    {
     "name": "stderr",
     "output_type": "stream",
     "text": [
      "Device set to use cuda:0\n"
     ]
    },
    {
     "data": {
      "text/plain": [
       "<transformers.pipelines.text_classification.TextClassificationPipeline at 0x251266ff9a0>"
      ]
     },
     "execution_count": 16,
     "metadata": {},
     "output_type": "execute_result"
    }
   ],
   "source": [
    "# 감성분석\n",
    "from transformers import pipeline\n",
    "senti_anal = pipeline(task='sentiment-analysis', model='distilbert-base-uncased-finetuned-sst-2-english')\n",
    "senti_anal"
   ]
  },
  {
   "cell_type": "code",
   "execution_count": 17,
   "id": "f1c18b69",
   "metadata": {},
   "outputs": [
    {
     "data": {
      "text/plain": [
       "[{'label': 'POSITIVE', 'score': 0.9998705387115479},\n",
       " {'label': 'NEGATIVE', 'score': 0.9996206760406494},\n",
       " {'label': 'POSITIVE', 'score': 0.6785107254981995},\n",
       " {'label': 'NEGATIVE', 'score': 0.999803364276886}]"
      ]
     },
     "execution_count": 17,
     "metadata": {},
     "output_type": "execute_result"
    }
   ],
   "source": [
    "results = senti_anal(reviews)\n",
    "results"
   ]
  },
  {
   "cell_type": "code",
   "execution_count": 18,
   "id": "3f205ffa",
   "metadata": {},
   "outputs": [
    {
     "name": "stdout",
     "output_type": "stream",
     "text": [
      "review: This movie was absolutely fantastic! The acting, the plot, everything was perfect.\n",
      " Sentiment: POSITIVE, 1.00\n",
      "\n",
      "review: I did not enjoy this movie at all. The story was predictable and the acting was terrible.\n",
      " Sentiment: NEGATIVE, 1.00\n",
      "\n",
      "review: A solid performance by the lead actor, but the plot could have been better.\n",
      " Sentiment: POSITIVE, 0.68\n",
      "\n",
      "review: What a waste of time! I can't believe I sat through the whole movie.\n",
      " Sentiment: NEGATIVE, 1.00\n",
      "\n"
     ]
    }
   ],
   "source": [
    "for review, result in zip(reviews,results):\n",
    "    print(f\"review: {review}\\n Sentiment: {result['label']}, {result['score']:.2f}\\n\")"
   ]
  }
 ],
 "metadata": {
  "kernelspec": {
   "display_name": "torch_cuda_transformer_env",
   "language": "python",
   "name": "python3"
  },
  "language_info": {
   "codemirror_mode": {
    "name": "ipython",
    "version": 3
   },
   "file_extension": ".py",
   "mimetype": "text/x-python",
   "name": "python",
   "nbconvert_exporter": "python",
   "pygments_lexer": "ipython3",
   "version": "3.10.18"
  }
 },
 "nbformat": 4,
 "nbformat_minor": 5
}
